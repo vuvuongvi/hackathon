{
 "cells": [
  {
   "cell_type": "code",
   "execution_count": 1,
   "metadata": {},
   "outputs": [],
   "source": [
    "from extract_transform_import import (\n",
    "    transform_to_json, storage_conn_str, storage_container_name_transform\n",
    ")"
   ]
  },
  {
   "cell_type": "code",
   "execution_count": 2,
   "metadata": {},
   "outputs": [
    {
     "name": "stdout",
     "output_type": "stream",
     "text": [
      "PROCESSING PARSER DATA....\n",
      "Parsing resume qa_raw_data...                 ✓\n",
      "tranform successful from qa_raw_data.txt to transform_data.json!\n"
     ]
    }
   ],
   "source": [
    "transform_to_json(raw_text_file=\"qa_raw_data.txt\",\n",
    "                  transform_json_file=\"transform_data.json\",\n",
    "                  storage_container_name_transform=storage_container_name_transform,\n",
    "                  storage_conn_str=storage_conn_str)"
   ]
  }
 ],
 "metadata": {
  "kernelspec": {
   "display_name": "Python 3.8.13 ('SpaceTop')",
   "language": "python",
   "name": "python3"
  },
  "language_info": {
   "codemirror_mode": {
    "name": "ipython",
    "version": 3
   },
   "file_extension": ".py",
   "mimetype": "text/x-python",
   "name": "python",
   "nbconvert_exporter": "python",
   "pygments_lexer": "ipython3",
   "version": "3.8.13"
  },
  "orig_nbformat": 4,
  "vscode": {
   "interpreter": {
    "hash": "cf07daac63d3b461caf3050b07003ea44481f13f0f48a4bfff03af201e1c60e7"
   }
  }
 },
 "nbformat": 4,
 "nbformat_minor": 2
}
